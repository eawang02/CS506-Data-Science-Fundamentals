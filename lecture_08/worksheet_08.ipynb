{
 "cells": [
  {
   "attachments": {},
   "cell_type": "markdown",
   "metadata": {},
   "source": [
    "# Worksheet 08\n",
    "\n",
    "Name:  Eric Wang\n",
    "\n",
    "UID: U21489105\n",
    "\n",
    "### Topics\n",
    "\n",
    "- Soft Clustering\n",
    "- Clustering Aggregation\n",
    "\n",
    "### Probability Review\n",
    "\n",
    "Read through [the following](https://medium.com/@gallettilance/overview-of-probability-3272b72c82c8)\n",
    "\n",
    "### Soft Clustering\n",
    "\n",
    "We generate 10 data points that come from a normal distribution with mean 5 and variance 1."
   ]
  },
  {
   "cell_type": "code",
   "execution_count": 1,
   "metadata": {},
   "outputs": [
    {
     "name": "stdout",
     "output_type": "stream",
     "text": [
      "[6.581379193291866, 5.147331352979337, 4.854345041833749, 5.46591828672025, 4.1752054016213975, 4.420956480047348, 3.69541551397898, 5.569935585791718, 3.5069017399885007, 5.569778658649377]\n"
     ]
    }
   ],
   "source": [
    "import random\n",
    "import numpy as np\n",
    "from sklearn.cluster import KMeans\n",
    "\n",
    "mean = 5\n",
    "stdev = 1\n",
    "\n",
    "c1 = np.random.normal(mean, stdev, 10).tolist()\n",
    "print(c1)"
   ]
  },
  {
   "cell_type": "markdown",
   "metadata": {},
   "source": [
    "a) Generate 10 more data points, this time coming from a normal distribution with mean 8 and variance 1."
   ]
  },
  {
   "cell_type": "code",
   "execution_count": 2,
   "metadata": {},
   "outputs": [
    {
     "name": "stdout",
     "output_type": "stream",
     "text": [
      "[8.40486159108956, 7.944154124451618, 8.144136440474634, 7.9292351703217365, 6.869767720956219, 7.906011933031747, 7.644946227180681, 6.62530964895915, 6.78978411082179, 8.760052891980552]\n"
     ]
    }
   ],
   "source": [
    "c2 = np.random.normal(8,1,10).tolist()\n",
    "print(c2)"
   ]
  },
  {
   "cell_type": "markdown",
   "metadata": {},
   "source": [
    "b) Flip a fair coin 10 times. If the coin lands on H, then pick the last data point of `c1` and remove it from `c1`, if T then pick the last data point from `c2` and remove it from `c2`. Add these 10 points to a list called `data`."
   ]
  },
  {
   "cell_type": "code",
   "execution_count": 3,
   "metadata": {},
   "outputs": [
    {
     "name": "stdout",
     "output_type": "stream",
     "text": [
      "[8.760052891980552, 5.569778658649377, 6.78978411082179, 3.5069017399885007, 5.569935585791718, 3.69541551397898, 4.420956480047348, 4.1752054016213975, 5.46591828672025, 4.854345041833749]\n"
     ]
    }
   ],
   "source": [
    "data = []\n",
    "for i in range(10):\n",
    "    # flip coin\n",
    "    coin_output = random.choice([0, 1])\n",
    "    if coin_output == 0:\n",
    "        p1 = c1.pop()\n",
    "        data.append(p1)\n",
    "    else:\n",
    "        p2 = c2.pop()\n",
    "        data.append(p2)\n",
    "print(data)"
   ]
  },
  {
   "cell_type": "markdown",
   "metadata": {},
   "source": [
    "c) This `data` is a Gaussian Mixture Distribution with 2 mixture components. Over the next few questions we will walk through the GMM algorithm to see if we can uncover the parameters we used to generate this data. First, please list all these parameters of the GMM that created `data` and the values we know they have."
   ]
  },
  {
   "cell_type": "markdown",
   "metadata": {},
   "source": [
    "Component 1:\n",
    "* Mean: 5\n",
    "* Stdev: 1\n",
    "\n",
    "Component 2:\n",
    "* Mean: 8\n",
    "* Stdev: 1"
   ]
  },
  {
   "cell_type": "markdown",
   "metadata": {},
   "source": [
    "d) Let's assume there are two mixture components (note: we could plot the data and make the observation that there are two clusters). The EM algorithm asks us to start with a random `mean_j`, `variance_j`, `P(C_j)` for each component j. One method we could use to find sensible values for these is to apply K means with k=2 here.\n",
    "\n",
    "1. the centroids would be the estimates of the `mean_j`\n",
    "2. the intra-cluster variance could be the estimate of `variance_j`\n",
    "3. the proportion of points in each cluster could be the estimate of `P(C_j)`\n",
    "\n",
    "Go through this process and list the parameter estimates it gives. Are they close or far from the true values?"
   ]
  },
  {
   "cell_type": "code",
   "execution_count": 4,
   "metadata": {},
   "outputs": [
    {
     "name": "stdout",
     "output_type": "stream",
     "text": [
      "[5.569778658649377, 3.5069017399885007, 5.569935585791718, 3.69541551397898, 4.420956480047348, 4.1752054016213975, 5.46591828672025, 4.854345041833749]\n",
      "[8.760052891980552, 6.78978411082179]\n",
      "P(C_1) = 0.8,  P(C_2) = 0.2\n",
      "mean_1 = 4.657307088578916,  mean_2 = 7.774918501401171\n",
      "var_1 = 0.6118903348708092,  var_2 = 10.689990688861783\n"
     ]
    },
    {
     "name": "stderr",
     "output_type": "stream",
     "text": [
      "/Users/eric/opt/anaconda3/lib/python3.9/site-packages/sklearn/cluster/_kmeans.py:1416: FutureWarning: The default value of `n_init` will change from 10 to 'auto' in 1.4. Set the value of `n_init` explicitly to suppress the warning\n",
      "  super()._check_params_vs_input(X, default_n_init=10)\n"
     ]
    }
   ],
   "source": [
    "kmeans = KMeans(2, init='k-means++').fit(X=np.array(data).reshape(-1, 1))\n",
    "\n",
    "c1 = [x[0] for x in filter(lambda x: x[1] == 0, zip(data, kmeans.labels_))]\n",
    "print(c1)\n",
    "c2 = [x[0] for x in filter(lambda x: x[1] == 1, zip(data, kmeans.labels_))]\n",
    "print(c2)\n",
    "\n",
    "prob_c = [ len(c1) / (len(c1) + len(c2)) , len(c2) / (len(c1) + len(c2)) ]\n",
    "mean = [ sum(c1)/len(c1) , sum(c2)/len(c2) ]\n",
    "var = [ sum(map(lambda x : (x - mean[0])**2, c1)) / len(c1) , sum(map(lambda x : (x - mean[0])**2, c2)) / len(c2) ]\n",
    "\n",
    "print(\"P(C_1) = \" + str(prob_c[0]) + \",  P(C_2) = \" + str(prob_c[1]))\n",
    "print(\"mean_1 = \" + str(mean[0]) + \",  mean_2 = \" + str(mean[1]))\n",
    "print(\"var_1 = \" + str(var[0]) + \",  var_2 = \" + str(var[1]))"
   ]
  },
  {
   "cell_type": "markdown",
   "metadata": {},
   "source": [
    "The means of both components are fairly close to the known parameters, however the variance/standard deviation of component 2 is very far from the correct value."
   ]
  },
  {
   "cell_type": "markdown",
   "metadata": {},
   "source": [
    "e) For each data point, compute `P(C_j | X_i)`. Comment on which cluster you think each point belongs to based on the estimated probabilities. How does that compare to the truth?"
   ]
  },
  {
   "cell_type": "code",
   "execution_count": 5,
   "metadata": {},
   "outputs": [
    {
     "name": "stdout",
     "output_type": "stream",
     "text": [
      "point =  8.760052891980552\n",
      "probability of observing that point if it came from cluster 0 =  1.1267876546280874e-10\n",
      "probability of observing that point if it came from cluster 1 =  0.03716110442883279\n",
      "point =  5.569778658649377\n",
      "probability of observing that point if it came from cluster 0 =  0.21446140150784607\n",
      "probability of observing that point if it came from cluster 1 =  0.036533622731945145\n",
      "point =  6.78978411082179\n",
      "probability of observing that point if it came from cluster 0 =  0.0015025792864074396\n",
      "probability of observing that point if it came from cluster 1 =  0.03716110442883279\n",
      "point =  3.5069017399885007\n",
      "probability of observing that point if it came from cluster 0 =  0.1113480250022157\n",
      "probability of observing that point if it came from cluster 1 =  0.034460274335858666\n",
      "point =  5.569935585791718\n",
      "probability of observing that point if it came from cluster 0 =  0.21437939021595628\n",
      "probability of observing that point if it came from cluster 1 =  0.036533733358017205\n",
      "point =  3.69541551397898\n",
      "probability of observing that point if it came from cluster 0 =  0.18950720244625102\n",
      "probability of observing that point if it came from cluster 1 =  0.0346983585394907\n",
      "point =  4.420956480047348\n",
      "probability of observing that point if it came from cluster 0 =  0.605115524543124\n",
      "probability of observing that point if it came from cluster 1 =  0.03552689525860446\n",
      "point =  4.1752054016213975\n",
      "probability of observing that point if it came from cluster 0 =  0.4780113046159307\n",
      "probability of observing that point if it came from cluster 1 =  0.03526225260372719\n",
      "point =  5.46591828672025\n",
      "probability of observing that point if it came from cluster 0 =  0.272282977405694\n",
      "probability of observing that point if it came from cluster 1 =  0.03645875621583658\n",
      "point =  4.854345041833749\n",
      "probability of observing that point if it came from cluster 0 =  0.6190413512447088\n",
      "probability of observing that point if it came from cluster 1 =  0.0359521193017128\n",
      "8.760052891980552\n",
      "Probability of coming from C_1 = 1.2128677640564248e-08\n",
      "Probability of coming from C_2 = 0.9999999878713224\n",
      "\n",
      "5.569778658649377\n",
      "Probability of coming from C_1 = 0.9591519776432412\n",
      "Probability of coming from C_2 = 0.040848022356758766\n",
      "\n",
      "6.78978411082179\n",
      "Probability of coming from C_1 = 0.13921981084785676\n",
      "Probability of coming from C_2 = 0.8607801891521432\n",
      "\n",
      "3.5069017399885007\n",
      "Probability of coming from C_1 = 0.9281856750570068\n",
      "Probability of coming from C_2 = 0.07181432494299325\n",
      "\n",
      "5.569935585791718\n",
      "Probability of coming from C_1 = 0.9591368710116178\n",
      "Probability of coming from C_2 = 0.040863128988382215\n",
      "\n",
      "3.69541551397898\n",
      "Probability of coming from C_1 = 0.9562291291052519\n",
      "Probability of coming from C_2 = 0.0437708708947481\n",
      "\n",
      "4.420956480047348\n",
      "Probability of coming from C_1 = 0.9855345869408918\n",
      "Probability of coming from C_2 = 0.01446541305910829\n",
      "\n",
      "4.1752054016213975\n",
      "Probability of coming from C_1 = 0.9818917900086946\n",
      "Probability of coming from C_2 = 0.018108209991305368\n",
      "\n",
      "5.46591828672025\n",
      "Probability of coming from C_1 = 0.9676092230307602\n",
      "Probability of coming from C_2 = 0.03239077696923976\n",
      "\n",
      "4.854345041833749\n",
      "Probability of coming from C_1 = 0.9856885201610903\n",
      "Probability of coming from C_2 = 0.014311479838909694\n",
      "\n"
     ]
    }
   ],
   "source": [
    "from scipy.stats import norm\n",
    "\n",
    "prob_c0_x = [] # P(C_0 | X_i)\n",
    "prob_c1_x = [] # P(C_1 | X_i)\n",
    "prob_x = [] # P(X_i)\n",
    "\n",
    "k = 2\n",
    "\n",
    "for p in data:\n",
    "    print(\"point = \", p)\n",
    "    pdf_i = []\n",
    "\n",
    "    for j in range(k):\n",
    "        # P(X_i | C_j)\n",
    "        pdf_i.append(norm.pdf(p, mean[j], var[j]))\n",
    "        print(\"probability of observing that point if it came from cluster \" + str(j) + \" = \", pdf_i[j])\n",
    "        # P(C_j) already computed\n",
    "        prob_c[j]\n",
    "\n",
    "    # P(X_i) = P(C_0)P(X_i | C_0) + P(C_1)P(X_i | C_1)\n",
    "    prob_x = prob_c[0] * pdf_i[0] + prob_c[1] * pdf_i[1]\n",
    "\n",
    "    # P(C_j | X_i) = P(X_i | C_j)P(C_j) / P(X_i)\n",
    "    prob_c0_x.append(pdf_i[0] * prob_c[0] / prob_x)\n",
    "    prob_c1_x.append(pdf_i[1] * prob_c[1] / prob_x)\n",
    "\n",
    "probs = zip(data, prob_c0_x, prob_c1_x)\n",
    "for p in probs:\n",
    "    print(p[0])\n",
    "    print(\"Probability of coming from C_1 = \" + str(p[1]))\n",
    "    print(\"Probability of coming from C_2 = \" + str(p[2]))\n",
    "    print()\n"
   ]
  },
  {
   "cell_type": "markdown",
   "metadata": {},
   "source": [
    "f) Having computed `P(C_j | X_i)`, update the estimates of `mean_j`, `var_j`, and `P(C_j)`. How different are these values from the original ones you got from K means? briefly comment."
   ]
  },
  {
   "cell_type": "code",
   "execution_count": 6,
   "metadata": {},
   "outputs": [
    {
     "name": "stdout",
     "output_type": "stream",
     "text": [
      "P(C_1) = 0.786264759593509,  P(C_2) = 0.2137352404064911\n",
      "mean_1 = 4.699299744596237,  mean_2 = 7.420094057415917\n",
      "var_1 = 0.6720406185423616,  var_2 = 2.1815902630703623\n"
     ]
    }
   ],
   "source": [
    "prob_c = [sum(prob_c0_x)/ len(prob_c0_x), sum(prob_c1_x)/ len(prob_c1_x) ]\n",
    "mean = [sum([x[0] * x[1] for x in zip(prob_c0_x, data)]) / sum(prob_c0_x), \n",
    "        sum([x[0] * x[1] for x in zip(prob_c1_x, data)]) / sum(prob_c1_x) ]\n",
    "var = [sum([x[0] * (x[1] - mean[0]) ** 2 for x in zip(prob_c0_x, data)]) / sum(prob_c0_x),\n",
    "       sum([x[0] * (x[1] - mean[1]) ** 2 for x in zip(prob_c1_x, data)]) / sum(prob_c1_x)]\n",
    "\n",
    "print(\"P(C_1) = \" + str(prob_c[0]) + \",  P(C_2) = \" + str(prob_c[1]))\n",
    "print(\"mean_1 = \" + str(mean[0]) + \",  mean_2 = \" + str(mean[1]))\n",
    "print(\"var_1 = \" + str(var[0]) + \",  var_2 = \" + str(var[1]))"
   ]
  },
  {
   "cell_type": "markdown",
   "metadata": {},
   "source": [
    "Overall, the probability of C_1 vs C_2 is similar to that found by K-means, and the computed centers are also similar to the previous iteration. However, the variance of cluster 2 dropped dramatically, much closer to the true value."
   ]
  },
  {
   "cell_type": "markdown",
   "metadata": {},
   "source": [
    "g) Update `P(C_j | X_i)`. Comment on any differences or lack thereof you observe."
   ]
  },
  {
   "cell_type": "code",
   "execution_count": 7,
   "metadata": {},
   "outputs": [
    {
     "name": "stdout",
     "output_type": "stream",
     "text": [
      "point =  8.760052891980552\n",
      "probability of observing that point if it came from cluster 0 =  7.0029453635106e-09\n",
      "probability of observing that point if it came from cluster 1 =  0.1514316684164904\n",
      "point =  5.569778658649377\n",
      "probability of observing that point if it came from cluster 0 =  0.25656490776629043\n",
      "probability of observing that point if it came from cluster 1 =  0.12762338141316196\n",
      "point =  6.78978411082179\n",
      "probability of observing that point if it came from cluster 0 =  0.004702883829850058\n",
      "probability of observing that point if it came from cluster 1 =  0.17539220293937305\n",
      "point =  3.5069017399885007\n",
      "probability of observing that point if it came from cluster 0 =  0.1230010230313369\n",
      "probability of observing that point if it came from cluster 1 =  0.036599042585332475\n",
      "point =  5.569935585791718\n",
      "probability of observing that point if it came from cluster 0 =  0.25648731236326416\n",
      "probability of observing that point if it came from cluster 1 =  0.12763116755900208\n",
      "point =  3.69541551397898\n",
      "probability of observing that point if it came from cluster 0 =  0.19452415592681507\n",
      "probability of observing that point if it came from cluster 1 =  0.04257585389973593\n",
      "point =  4.420956480047348\n",
      "probability of observing that point if it came from cluster 0 =  0.5448345976020674\n",
      "probability of observing that point if it came from cluster 1 =  0.07107930083656926\n",
      "point =  4.1752054016213975\n",
      "probability of observing that point if it came from cluster 0 =  0.4379769168884858\n",
      "probability of observing that point if it came from cluster 1 =  0.06049672365353099\n",
      "point =  5.46591828672025\n",
      "probability of observing that point if it came from cluster 0 =  0.3097043024337655\n",
      "probability of observing that point if it came from cluster 1 =  0.12243397872633652\n",
      "point =  4.854345041833749\n",
      "probability of observing that point if it came from cluster 0 =  0.5780382827460288\n",
      "probability of observing that point if it came from cluster 1 =  0.09157583732331237\n",
      "8.760052891980552\n",
      "Probability of coming from C_1 = 1.7012049349755804e-07\n",
      "Probability of coming from C_2 = 0.9999998298795065\n",
      "\n",
      "5.569778658649377\n",
      "Probability of coming from C_1 = 0.8808866730066862\n",
      "Probability of coming from C_2 = 0.11911332699331385\n",
      "\n",
      "6.78978411082179\n",
      "Probability of coming from C_1 = 0.08978252483111662\n",
      "Probability of coming from C_2 = 0.9102174751688835\n",
      "\n",
      "3.5069017399885007\n",
      "Probability of coming from C_1 = 0.9251677490389143\n",
      "Probability of coming from C_2 = 0.07483225096108577\n",
      "\n",
      "5.569935585791718\n",
      "Probability of coming from C_1 = 0.8808485281705105\n",
      "Probability of coming from C_2 = 0.1191514718294894\n",
      "\n",
      "3.69541551397898\n",
      "Probability of coming from C_1 = 0.9438438530112585\n",
      "Probability of coming from C_2 = 0.056156146988741544\n",
      "\n",
      "4.420956480047348\n",
      "Probability of coming from C_1 = 0.9657507666968985\n",
      "Probability of coming from C_2 = 0.03424923330310139\n",
      "\n",
      "4.1752054016213975\n",
      "Probability of coming from C_1 = 0.9638107388212217\n",
      "Probability of coming from C_2 = 0.03618926117877831\n",
      "\n",
      "5.46591828672025\n",
      "Probability of coming from C_1 = 0.9029640812281408\n",
      "Probability of coming from C_2 = 0.09703591877185927\n",
      "\n",
      "4.854345041833749\n",
      "Probability of coming from C_1 = 0.9587123703621885\n",
      "Probability of coming from C_2 = 0.04128762963781146\n",
      "\n"
     ]
    }
   ],
   "source": [
    "prob_c0_x = [] # P(C_0 | X_i)\n",
    "prob_c1_x = [] # P(C_1 | X_i)\n",
    "prob_x = [] # P(X_i)\n",
    "\n",
    "k = 2\n",
    "\n",
    "for p in data:\n",
    "    print(\"point = \", p)\n",
    "    pdf_i = []\n",
    "\n",
    "    for j in range(k):\n",
    "        # P(X_i | C_j)\n",
    "        pdf_i.append(norm.pdf(p, mean[j], var[j]))\n",
    "        print(\"probability of observing that point if it came from cluster \" + str(j) + \" = \", pdf_i[j])\n",
    "        # P(C_j) already computed\n",
    "        prob_c[j]\n",
    "\n",
    "    # P(X_i) = P(C_0)P(X_i | C_0) + P(C_1)P(X_i | C_1)\n",
    "    prob_x = prob_c[0] * pdf_i[0] + prob_c[1] * pdf_i[1]\n",
    "\n",
    "    # P(C_j | X_i) = P(X_i | C_j)P(C_j) / P(X_i)\n",
    "    prob_c0_x.append(pdf_i[0] * prob_c[0] / prob_x )\n",
    "    prob_c1_x.append(pdf_i[1] * prob_c[1] / prob_x )\n",
    "\n",
    "probs = zip(data, prob_c0_x, prob_c1_x)\n",
    "for p in probs:\n",
    "    print(p[0])\n",
    "    print(\"Probability of coming from C_1 = \" + str(p[1]))\n",
    "    print(\"Probability of coming from C_2 = \" + str(p[2]))\n",
    "    print()\n"
   ]
  },
  {
   "cell_type": "markdown",
   "metadata": {},
   "source": [
    "The reported probability of a point coming from C_1 rose again. Now the algorithm is \"clustering\" nearly all points as coming from distribution 1."
   ]
  },
  {
   "cell_type": "markdown",
   "metadata": {},
   "source": [
    "h) Use `P(C_j | X_i)` to create a hard assignment - label each point as belonging to a specific cluster (0 or 1)"
   ]
  },
  {
   "cell_type": "code",
   "execution_count": 8,
   "metadata": {},
   "outputs": [
    {
     "name": "stdout",
     "output_type": "stream",
     "text": [
      "points in cluster 0 : [5.569778658649377, 3.5069017399885007, 5.569935585791718, 3.69541551397898, 4.420956480047348, 4.1752054016213975, 5.46591828672025, 4.854345041833749]\n",
      "points in cluster 1 : [8.760052891980552, 6.78978411082179]\n"
     ]
    }
   ],
   "source": [
    "assignments = [[], []]\n",
    "for x in zip(data, prob_c0_x):\n",
    "    p = x[1]\n",
    "    d = x[0]\n",
    "    if random.random() <= p:\n",
    "        assignments[0].append(d)\n",
    "    else:\n",
    "        assignments[1].append(d)\n",
    "print(f\"points in cluster 0 : {assignments[0]}\\npoints in cluster 1 : {assignments[1]}\")"
   ]
  }
 ],
 "metadata": {
  "interpreter": {
   "hash": "76ca05dc3ea24b2e3b98cdb7774adfbb40773424bf5109b477fd793f623715af"
  },
  "kernelspec": {
   "display_name": "Python 3.9.9 64-bit ('env': venv)",
   "language": "python",
   "name": "python3"
  },
  "language_info": {
   "codemirror_mode": {
    "name": "ipython",
    "version": 3
   },
   "file_extension": ".py",
   "mimetype": "text/x-python",
   "name": "python",
   "nbconvert_exporter": "python",
   "pygments_lexer": "ipython3",
   "version": "3.9.17"
  },
  "orig_nbformat": 4
 },
 "nbformat": 4,
 "nbformat_minor": 2
}
