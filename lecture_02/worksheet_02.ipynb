{
 "cells": [
  {
   "attachments": {},
   "cell_type": "markdown",
   "metadata": {},
   "source": [
    "# Worksheet 02\n",
    "\n",
    "Name:  Eric Wang\n",
    "\n",
    "UID: U21489105\n",
    "\n",
    "### Topics\n",
    "\n",
    "- Effective Programming\n",
    "\n",
    "### Effective Programming\n",
    "\n",
    "a) What is a drawback of the top down approach?"
   ]
  },
  {
   "cell_type": "markdown",
   "metadata": {},
   "source": [
    "In the top down approach, you plan and write abstract code that calls functions to get the overall structure of the code before working on the fine details of the code. However, this makes testing your code very difficult, as you often won't have actually runnable code until near the very end when you begin implementing functions."
   ]
  },
  {
   "cell_type": "markdown",
   "metadata": {},
   "source": [
    "b) What is a drawback of the bottom up approach?"
   ]
  },
  {
   "cell_type": "markdown",
   "metadata": {},
   "source": [
    "In the bottom up approach, you begin with implementing functions and working on the detailed functions before building up the structure that brings all the functions together. The bottom-up approach requires good foresight and planning to knowing what functions and code snippets are necessary and how they will fit together ahead of time. By starting with the specific, low level details, you may miss some functions or create functions that are unnecessary in the grand scheme of things."
   ]
  },
  {
   "cell_type": "markdown",
   "metadata": {},
   "source": [
    "c) What are 3 things you can do to have a better debugging experience?"
   ]
  },
  {
   "cell_type": "markdown",
   "metadata": {},
   "source": [
    "1. Read and understand the error. Where did the error occur, and what steps led to the error occurring?\n",
    "2. Sanity check where possible, check the general setup of your code to eliminate areas where bugs are unlikely to come from.\n",
    "3. Look online/consult other resources to get help with your bug."
   ]
  },
  {
   "attachments": {},
   "cell_type": "markdown",
   "metadata": {},
   "source": [
    "d) Follow along with the live coding. You can write your code here:"
   ]
  },
  {
   "cell_type": "code",
   "execution_count": 16,
   "metadata": {},
   "outputs": [],
   "source": [
    "class Board:\n",
    "\n",
    "    def __init__(self):\n",
    "        self.board = [[\"_\" for _ in range(8)] for _ in range(8)]\n",
    "\n",
    "    def __repr__(self):\n",
    "        res = \"\"\n",
    "        for row in self.board:\n",
    "            for col in row:\n",
    "                res += col\n",
    "                res += \" \"\n",
    "            res += '\\n'\n",
    "        return res\n",
    "    \n",
    "    def is_legal(self, row, col):\n",
    "        return self.is_legal_row(row) and self.is_legal_col(col) and self.is_legal_diag(row, col)\n",
    "    \n",
    "    def is_legal_row(self, row):\n",
    "        for col in range(8):\n",
    "            if self.board[row][col] == \"Q\":\n",
    "                return False\n",
    "        return True\n",
    "    \n",
    "    def is_legal_col(self, col):\n",
    "        for row in range(8):\n",
    "            if self.board[row][col] == \"Q\":\n",
    "                return False\n",
    "        return True\n",
    "    \n",
    "    def is_legal_diag(self, row, col):\n",
    "        for i in range(8):\n",
    "            if self.is_on_board(row-i, col-i) and self.board[row - i][col - i] == \"Q\":\n",
    "                return False\n",
    "        for i in range(8):\n",
    "            if self.is_on_board(row-i, col+i) and self.board[row - i][col + i] == \"Q\":\n",
    "                return False\n",
    "        for i in range(8):\n",
    "            if self.is_on_board(row+i, col-i) and self.board[row + i][col - i] == \"Q\":\n",
    "                return False\n",
    "        for i in range(8):\n",
    "            if self.is_on_board(row+i, col+i) and self.board[row + i][col + i] == \"Q\":\n",
    "                return False\n",
    "        return True\n",
    "            \n",
    "    def is_on_board(self, row, col):\n",
    "        return row >= 0 and row < 8 and col >= 0 and col < 8\n",
    "    \n",
    "    def set_queen(self, row, col):\n",
    "        self.board[row][col] = \"Q\"\n",
    "\n",
    "    def unset_queen(self, row):\n",
    "        self.board[row] = [\"_\" for _ in range(8)]\n",
    "\n",
    "    def get_queen(self, row):\n",
    "        for col in range(8):\n",
    "            if self.board[row][col] == \"Q\":\n",
    "                return col\n",
    "        return -1\n",
    "\n",
    "    def solve(self):\n",
    "        row = 0\n",
    "        col = 0\n",
    "\n",
    "        while row < 8:\n",
    "            if self.is_legal(row, col):\n",
    "                self.set_queen(row, col)    \n",
    "                row += 1\n",
    "                col = 0\n",
    "            else:\n",
    "                col += 1\n",
    "                while col >= 8:\n",
    "                    col = self.get_queen(row-1)\n",
    "                    self.unset_queen(row-1)\n",
    "                    col += 1\n",
    "                    row -= 1\n",
    "\n",
    "        print(\"Solution found!\")\n",
    "        print(self)\n"
   ]
  },
  {
   "cell_type": "code",
   "execution_count": 17,
   "metadata": {},
   "outputs": [
    {
     "name": "stdout",
     "output_type": "stream",
     "text": [
      "Solution found!\n",
      "Q _ _ _ _ _ _ _ \n",
      "_ _ _ _ Q _ _ _ \n",
      "_ _ _ _ _ _ _ Q \n",
      "_ _ _ _ _ Q _ _ \n",
      "_ _ Q _ _ _ _ _ \n",
      "_ _ _ _ _ _ Q _ \n",
      "_ Q _ _ _ _ _ _ \n",
      "_ _ _ Q _ _ _ _ \n",
      "\n"
     ]
    }
   ],
   "source": [
    "board = Board()\n",
    "board.solve()"
   ]
  }
 ],
 "metadata": {
  "kernelspec": {
   "display_name": "Python 3",
   "language": "python",
   "name": "python3"
  },
  "language_info": {
   "codemirror_mode": {
    "name": "ipython",
    "version": 3
   },
   "file_extension": ".py",
   "mimetype": "text/x-python",
   "name": "python",
   "nbconvert_exporter": "python",
   "pygments_lexer": "ipython3",
   "version": "3.9.17"
  },
  "orig_nbformat": 4,
  "vscode": {
   "interpreter": {
    "hash": "76ca05dc3ea24b2e3b98cdb7774adfbb40773424bf5109b477fd793f623715af"
   }
  }
 },
 "nbformat": 4,
 "nbformat_minor": 2
}
