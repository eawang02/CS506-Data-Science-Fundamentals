{
 "cells": [
  {
   "cell_type": "code",
   "execution_count": 2,
   "metadata": {},
   "outputs": [],
   "source": [
    "import numpy as np\n",
    "import pandas as pd\n",
    "import matplotlib.pyplot as plt"
   ]
  },
  {
   "cell_type": "code",
   "execution_count": 3,
   "metadata": {},
   "outputs": [],
   "source": [
    "rawData = pd.read_csv(\"data.csv\")"
   ]
  },
  {
   "cell_type": "code",
   "execution_count": 5,
   "metadata": {},
   "outputs": [
    {
     "data": {
      "text/html": [
       "<div>\n",
       "<style scoped>\n",
       "    .dataframe tbody tr th:only-of-type {\n",
       "        vertical-align: middle;\n",
       "    }\n",
       "\n",
       "    .dataframe tbody tr th {\n",
       "        vertical-align: top;\n",
       "    }\n",
       "\n",
       "    .dataframe thead th {\n",
       "        text-align: right;\n",
       "    }\n",
       "</style>\n",
       "<table border=\"1\" class=\"dataframe\">\n",
       "  <thead>\n",
       "    <tr style=\"text-align: right;\">\n",
       "      <th></th>\n",
       "      <th>day</th>\n",
       "      <th>alarm (%H:%M:%S)</th>\n",
       "    </tr>\n",
       "  </thead>\n",
       "  <tbody>\n",
       "    <tr>\n",
       "      <th>0</th>\n",
       "      <td>1</td>\n",
       "      <td>00:00:02</td>\n",
       "    </tr>\n",
       "    <tr>\n",
       "      <th>1</th>\n",
       "      <td>2</td>\n",
       "      <td>11:21:23</td>\n",
       "    </tr>\n",
       "    <tr>\n",
       "      <th>2</th>\n",
       "      <td>3</td>\n",
       "      <td>17:59:58</td>\n",
       "    </tr>\n",
       "    <tr>\n",
       "      <th>3</th>\n",
       "      <td>4</td>\n",
       "      <td>22:42:46</td>\n",
       "    </tr>\n",
       "    <tr>\n",
       "      <th>4</th>\n",
       "      <td>5</td>\n",
       "      <td>02:22:08</td>\n",
       "    </tr>\n",
       "    <tr>\n",
       "      <th>5</th>\n",
       "      <td>6</td>\n",
       "      <td>05:21:25</td>\n",
       "    </tr>\n",
       "    <tr>\n",
       "      <th>6</th>\n",
       "      <td>7</td>\n",
       "      <td>07:52:56</td>\n",
       "    </tr>\n",
       "    <tr>\n",
       "      <th>7</th>\n",
       "      <td>8</td>\n",
       "      <td>10:04:12</td>\n",
       "    </tr>\n",
       "    <tr>\n",
       "      <th>8</th>\n",
       "      <td>9</td>\n",
       "      <td>12:00:00</td>\n",
       "    </tr>\n",
       "    <tr>\n",
       "      <th>9</th>\n",
       "      <td>10</td>\n",
       "      <td>13:43:31</td>\n",
       "    </tr>\n",
       "  </tbody>\n",
       "</table>\n",
       "</div>"
      ],
      "text/plain": [
       "   day alarm (%H:%M:%S)\n",
       "0    1         00:00:02\n",
       "1    2         11:21:23\n",
       "2    3         17:59:58\n",
       "3    4         22:42:46\n",
       "4    5         02:22:08\n",
       "5    6         05:21:25\n",
       "6    7         07:52:56\n",
       "7    8         10:04:12\n",
       "8    9         12:00:00\n",
       "9   10         13:43:31"
      ]
     },
     "execution_count": 5,
     "metadata": {},
     "output_type": "execute_result"
    }
   ],
   "source": [
    "rawData.head(10)"
   ]
  },
  {
   "cell_type": "code",
   "execution_count": 10,
   "metadata": {},
   "outputs": [
    {
     "data": {
      "text/html": [
       "<div>\n",
       "<style scoped>\n",
       "    .dataframe tbody tr th:only-of-type {\n",
       "        vertical-align: middle;\n",
       "    }\n",
       "\n",
       "    .dataframe tbody tr th {\n",
       "        vertical-align: top;\n",
       "    }\n",
       "\n",
       "    .dataframe thead th {\n",
       "        text-align: right;\n",
       "    }\n",
       "</style>\n",
       "<table border=\"1\" class=\"dataframe\">\n",
       "  <thead>\n",
       "    <tr style=\"text-align: right;\">\n",
       "      <th></th>\n",
       "      <th>day</th>\n",
       "      <th>alarm (%H:%M:%S)</th>\n",
       "      <th>alarm</th>\n",
       "    </tr>\n",
       "  </thead>\n",
       "  <tbody>\n",
       "    <tr>\n",
       "      <th>0</th>\n",
       "      <td>1</td>\n",
       "      <td>00:00:02</td>\n",
       "      <td>2</td>\n",
       "    </tr>\n",
       "    <tr>\n",
       "      <th>1</th>\n",
       "      <td>2</td>\n",
       "      <td>11:21:23</td>\n",
       "      <td>40883</td>\n",
       "    </tr>\n",
       "    <tr>\n",
       "      <th>2</th>\n",
       "      <td>3</td>\n",
       "      <td>17:59:58</td>\n",
       "      <td>64798</td>\n",
       "    </tr>\n",
       "    <tr>\n",
       "      <th>3</th>\n",
       "      <td>4</td>\n",
       "      <td>22:42:46</td>\n",
       "      <td>81766</td>\n",
       "    </tr>\n",
       "    <tr>\n",
       "      <th>4</th>\n",
       "      <td>5</td>\n",
       "      <td>02:22:08</td>\n",
       "      <td>8528</td>\n",
       "    </tr>\n",
       "    <tr>\n",
       "      <th>5</th>\n",
       "      <td>6</td>\n",
       "      <td>05:21:25</td>\n",
       "      <td>19285</td>\n",
       "    </tr>\n",
       "    <tr>\n",
       "      <th>6</th>\n",
       "      <td>7</td>\n",
       "      <td>07:52:56</td>\n",
       "      <td>28376</td>\n",
       "    </tr>\n",
       "    <tr>\n",
       "      <th>7</th>\n",
       "      <td>8</td>\n",
       "      <td>10:04:12</td>\n",
       "      <td>36252</td>\n",
       "    </tr>\n",
       "    <tr>\n",
       "      <th>8</th>\n",
       "      <td>9</td>\n",
       "      <td>12:00:00</td>\n",
       "      <td>43200</td>\n",
       "    </tr>\n",
       "    <tr>\n",
       "      <th>9</th>\n",
       "      <td>10</td>\n",
       "      <td>13:43:31</td>\n",
       "      <td>49411</td>\n",
       "    </tr>\n",
       "  </tbody>\n",
       "</table>\n",
       "</div>"
      ],
      "text/plain": [
       "   day alarm (%H:%M:%S)  alarm\n",
       "0    1         00:00:02      2\n",
       "1    2         11:21:23  40883\n",
       "2    3         17:59:58  64798\n",
       "3    4         22:42:46  81766\n",
       "4    5         02:22:08   8528\n",
       "5    6         05:21:25  19285\n",
       "6    7         07:52:56  28376\n",
       "7    8         10:04:12  36252\n",
       "8    9         12:00:00  43200\n",
       "9   10         13:43:31  49411"
      ]
     },
     "execution_count": 10,
     "metadata": {},
     "output_type": "execute_result"
    }
   ],
   "source": [
    "def convertTime(s):\n",
    "    hour, minute, second = s.split(\":\")\n",
    "\n",
    "    return (int(hour) * 3600) + (int(minute) * 60) + int(second)\n",
    "\n",
    "rawData[\"alarm\"] = rawData[\"alarm (%H:%M:%S)\"].map(convertTime)\n",
    "\n",
    "rawData.head(10)"
   ]
  },
  {
   "cell_type": "code",
   "execution_count": 11,
   "metadata": {},
   "outputs": [
    {
     "data": {
      "text/plain": [
       "<matplotlib.collections.PathCollection at 0x7fa71df684f0>"
      ]
     },
     "execution_count": 11,
     "metadata": {},
     "output_type": "execute_result"
    },
    {
     "data": {
      "image/png": "[encoded data removed]",
      "text/plain": [
       "<Figure size 640x480 with 1 Axes>"
      ]
     },
     "metadata": {},
     "output_type": "display_data"
    }
   ],
   "source": [
    "plt.scatter(rawData['day'], rawData['alarm'])"
   ]
  },
  {
   "cell_type": "code",
   "execution_count": 42,
   "metadata": {},
   "outputs": [
    {
     "data": {
      "text/plain": [
       "2"
      ]
     },
     "execution_count": 42,
     "metadata": {},
     "output_type": "execute_result"
    }
   ],
   "source": [
    "rawData[rawData['day'] == 1]['alarm'].item()"
   ]
  },
  {
   "cell_type": "code",
   "execution_count": 66,
   "metadata": {},
   "outputs": [
    {
     "name": "stdout",
     "output_type": "stream",
     "text": [
      "[40881.0, 23915.0, 16968.0, 13162.0, 10757.0, 9091.0, 7876.0, 6948.0, 6211.0, 5623.0, 5134.0, 4720.0, 4370.0, 4071.0, 3807.0, 3574.0, 3371.0, 3191.0, 3026.0, 2875.0, 2747.0, 2621.0, 2509.0, 2409.0, 2314.0, 2224.0, 2146.0, 2070.0, 2000.0, 1933.0, 1873.0, 1816.0, 1760.0, 1709.0, 1663.0, 1614.0, 1572.0, 1534.0, 1494.0, 1455.0, 1422.0, 1387.0, 1358.0, 1324.0, 1296.0, 1270.0, 1242.0, 1217.0, 1192.0, 1167.0, 1145.0, 1124.0, 1101.0, 1083.0, 1062.0, 1045.0, 1025.0, 1008.0, 993.0, 974.0, 957.0, 946.0, 929.0, 914.0, 901.0, 885.0, 876.0, 860.0, 848.0, 836.0, 827.0, 813.0, 804.0, 790.0, 783.0, 768.0, 763.0, 753.0, 741.0, 733.0, 722.0, 715.0, 708.0, 698.0, 689.0, 682.0, 674.0, 667.0, 658.0, 652.0, 644.0, 637.0, 633.0, 625.0, 618.0, 609.0, 607.0, 597.0, 594.0, 587.0, 579.0, 578.0, 569.0, 562.0, 563.0, 552.0, 549.0, 541.0, 541.0, 533.0, 531.0, 522.0, 522.0, 513.0, 511.0, 507.0, 502.0, 498.0, 493.0, 490.0, 486.0, 480.0, 480.0, 472.0, 469.0, 465.0, 465.0, 457.0, 457.0, 454.0, 447.0, 447.0, 440.0, 439.0, 435.0, 432.0, 430.0, 424.0, 424.0, 420.0, 417.0, 412.0, 413.0, 408.0, 402.0, 406.0, 400.0, 396.0, 396.0, 392.0, 387.0, 389.0, 383.0, 381.0, 379.0, 379.0, 372.0, 374.0, 369.0, 368.0, 365.0, 363.0, 361.0, 357.0, 357.0, 356.0, 349.0, 352.0, 349.0, 346.0, 341.0, 345.0, 340.0, 338.0, 335.0, 335.0, 330.0, 332.0, 328.0, 326.0, 325.0, 324.0, 322.0, 319.0, 318.0, 317.0, 314.0, 311.0, 312.0, 310.0, 310.0, 306.0, 305.0, 302.0, 302.0, 298.0, 301.0, 298.0, 294.0, 295.0, 293.0, 290.0, 291.0, 289.0, 288.0, 282.0, 287.0, 284.0, 280.0, 280.0, 278.0, 278.0, 279.0, 273.0, 273.0, 271.0, 272.0, 271.0, 270.0, 266.0, 268.0, 263.0, 263.0, 264.0, 261.0, 263.0, 257.0, 258.0, 258.0, 255.0, 256.0, 253.0, 252.0, 252.0, 251.0, 246.0, 252.0, 246.0, 248.0, 244.0, 245.0, 244.0, 241.0, 241.0, 241.0, 240.0, 236.0, 238.0, 238.0, 233.0, 234.0, 234.0, 233.0, 233.0, 230.0, 231.0, 229.0, 228.0, 226.0, 228.0, 226.0, 224.0, 224.0, 223.0, 224.0, 221.0, 219.0, 221.0, 217.0, 218.0, 218.0, 216.0, 216.0, 215.0, 214.0, 214.0, 210.0, 215.0, 209.0, 210.0, 209.0, 211.0, 206.0, 208.0, 208.0, 205.0, 207.0, 202.0, 204.0, 204.0, 203.0, 201.0, 199.0, 204.0, 199.0, 196.0, 199.0, 197.0, 198.0, 196.0, 197.0, 194.0, 192.0, 196.0, 193.0, 192.0, 192.0, 191.0, 192.0, 190.0, 189.0, 188.0, 187.0, 189.0, 186.0, 186.0, 187.0, 186.0, 184.0, 184.0, 184.0, 183.0, 181.0, 183.0, 182.0, 179.0, 180.0, 180.0, 179.0, 177.0, 179.0, 176.0, 178.0, 176.0, 177.0, 174.0, 174.0, 177.0, 173.0, 173.0, 173.0, 173.0, 168.0, 174.0, 170.0, 170.0, 171.0, 167.0, 171.0, 167.0, 169.0, 168.0, 163.0, 167.0]\n"
     ]
    }
   ],
   "source": [
    "days = list(range(2, 356))\n",
    "intervals = []\n",
    "\n",
    "for day in days:\n",
    "    interval = rawData[rawData['day'] == day]['alarm'].item() - rawData[rawData['day'] == (day-1)]['alarm'].item()\n",
    "    if interval < 0:\n",
    "        interval += 86400\n",
    "    intervals.append(float(interval))\n",
    "\n",
    "print(intervals)"
   ]
  },
  {
   "cell_type": "code",
   "execution_count": 67,
   "metadata": {},
   "outputs": [
    {
     "data": {
      "text/plain": [
       "<matplotlib.collections.PathCollection at 0x7fa720467b80>"
      ]
     },
     "execution_count": 67,
     "metadata": {},
     "output_type": "execute_result"
    },
    {
     "data": {
      "image/png": "[encoded data removed]",
      "text/plain": [
       "<Figure size 640x480 with 1 Axes>"
      ]
     },
     "metadata": {},
     "output_type": "display_data"
    }
   ],
   "source": [
    "plt.scatter(days, intervals)"
   ]
  },
  {
   "cell_type": "code",
   "execution_count": 69,
   "metadata": {},
   "outputs": [
    {
     "data": {
      "text/plain": [
       "<matplotlib.collections.PathCollection at 0x7fa720661850>"
      ]
     },
     "execution_count": 69,
     "metadata": {},
     "output_type": "execute_result"
    },
    {
     "data": {
      "image/png": "[encoded data removed]",
      "text/plain": [
       "<Figure size 640x480 with 1 Axes>"
      ]
     },
     "metadata": {},
     "output_type": "display_data"
    }
   ],
   "source": [
    "reciprocal_intervals = np.reciprocal(intervals)\n",
    "plt.scatter(days, reciprocal_intervals)"
   ]
  },
  {
   "cell_type": "code",
   "execution_count": 72,
   "metadata": {},
   "outputs": [
    {
     "name": "stdout",
     "output_type": "stream",
     "text": [
      "[0.00588235 0.00588235 0.00584795 0.00598802 0.00584795 0.00598802\n",
      " 0.00591716 0.00595238 0.00613497 0.00598802]\n"
     ]
    }
   ],
   "source": [
    "print(reciprocal_intervals[-10:])"
   ]
  }
 ],
 "metadata": {
  "kernelspec": {
   "display_name": "env",
   "language": "python",
   "name": "python3"
  },
  "language_info": {
   "codemirror_mode": {
    "name": "ipython",
    "version": 3
   },
   "file_extension": ".py",
   "mimetype": "text/x-python",
   "name": "python",
   "nbconvert_exporter": "python",
   "pygments_lexer": "ipython3",
   "version": "3.9.17"
  }
 },
 "nbformat": 4,
 "nbformat_minor": 2
}
