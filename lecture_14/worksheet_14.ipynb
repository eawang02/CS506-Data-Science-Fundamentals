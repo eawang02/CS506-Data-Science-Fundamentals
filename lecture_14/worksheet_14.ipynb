{
 "cells": [
  {
   "attachments": {},
   "cell_type": "markdown",
   "metadata": {},
   "source": [
    "# Worksheet 14\n",
    "\n",
    "Name:  Eric Wang\n",
    "\n",
    "UID: U21489105\n",
    "\n",
    "### Topics\n",
    "\n",
    "- Naive Bayes\n",
    "- Model Evaluation\n",
    "\n",
    "### Naive Bayes\n",
    "\n",
    "| Attribute A | Attribute B | Attribute C | Class |\n",
    "|-------------|-------------|-------------|-------|\n",
    "| Yes         | Single      | High        | No    |\n",
    "| No          | Married     | Mid         | No    |\n",
    "| No          | Single      | Low         | No    |\n",
    "| Yes         | Married     | High        | No    |\n",
    "| No          | Divorced    | Mid         | Yes   |\n",
    "| No          | Married     | Low         | No    |\n",
    "| Yes         | Divorced    | High        | No    |\n",
    "| No          | Single      | Mid         | Yes   |\n",
    "| No          | Married     | Low         | No    |\n",
    "| No          | Single      | Mid         | Yes   |\n",
    "\n",
    "a) Compute the following probabilities:\n",
    "\n",
    "- P(Attribute A = Yes | Class = No)\n",
    "- P(Attribute B = Divorced | Class = Yes)\n",
    "- P(Attribute C = High | Class = No)\n",
    "- P(Attribute C = Mid | Class = Yes)"
   ]
  },
  {
   "cell_type": "markdown",
   "metadata": {},
   "source": [
    "* Pr(Attribute A = Y | Class = No) = $\\frac 37$\n",
    "* Pr(Attribute B = Divorced | Class = Yes) = $\\frac 13$\n",
    "* Pr(Attribute C = High | Class = No) = $\\frac 37$\n",
    "* Pr(Attribute C = Mid | Class = Yes) = $1$\n"
   ]
  },
  {
   "cell_type": "markdown",
   "metadata": {},
   "source": [
    "b) Classify the following unseen records:\n",
    "\n",
    "- (Yes, Married, Mid)\n",
    "- (No, Divorced, High)\n",
    "- (No, Single, High)\n",
    "- (No, Divorced, Low)"
   ]
  },
  {
   "cell_type": "markdown",
   "metadata": {},
   "source": [
    "1. P(Class = Yes | A = Yes, B = Married, and C = Mid) = P(A = Yes | Class = Yes)P(B = Married | Class = Yes)P(C = Mid | Class = Yes)P(Class = Yes)\n",
    "\n",
    "    = 0 * 0 * 1 * $\\frac 3{10}$= 0\n",
    "\n",
    "    P(A = Yes | Class = No)P(B = Married | Class = No)P(C = Mid | Class = No)P(Class = No) = $\\frac 37 \\cdot \\frac 47 \\cdot \\frac 17 \\cdot \\frac 7{10} = \\frac{12}{490}$\n",
    "\n",
    "Classify as NO.\n",
    "\n",
    "2. P(A = No | Class = Yes)P(B = Divorced | Class = Yes)P(C = High | Class = Yes)P(Class = Yes) = $1 \\cdot \\frac 13 \\cdot 0 \\cdot \\frac 3{10} = 0$\n",
    "\n",
    "    P(A = No | Class = No)P(B = Divorced | Class = No)P(C = High | Class = No)P(Class = No) = $\\frac 47 \\cdot \\frac 17 \\cdot \\frac 37 \\cdot \\frac 7{10} = \\frac {12}{490}$\n",
    "\n",
    "Classify as NO.\n",
    "\n",
    "3. P(A = No | Class = Yes)P(B = Single | Class = Yes)P(C = High | Class = Yes)P(Class = Yes) = 0\n",
    "\n",
    "    P(A = No | Class = No)P(B = Single | Class = No)P(C = High | Class = No)P(Class = No) = $\\frac 47 \\cdot \\frac 27 \\cdot \\frac 37 \\cdot \\frac 7{10} = \\frac{36}{490}$\n",
    "\n",
    "Classify as NO.\n",
    "\n",
    "4. P(A = No | Class = Yes)P(B = Divorced | Class = Yes)P(C = Low | Class = Yes)P(Class = Yes) = 0\n",
    "\n",
    "    P(A = No | Class = No)P(B = Divorced | Class = No)P(C = Low | Class = No)P(Class = No) = $\\frac 47 \\cdot \\frac 17 \\cdot \\frac 37 \\cdot \\frac 7{10} = \\frac{12}{490}$\n",
    "\n",
    "Classify as NO."
   ]
  },
  {
   "cell_type": "markdown",
   "metadata": {},
   "source": [
    "### Model Evaluation\n",
    "\n",
    "a) Write a function to generate the confusion matrix for a list of actual classes and a list of predicted classes"
   ]
  },
  {
   "cell_type": "code",
   "execution_count": 20,
   "metadata": {},
   "outputs": [
    {
     "name": "stdout",
     "output_type": "stream",
     "text": [
      "\t | Predict=Y | Predict=N \n",
      "----------------------------------\n",
      "Actual=Y |     2           1\n",
      "Actual=N |     3           4\n"
     ]
    }
   ],
   "source": [
    "actual_class = [\"Yes\", \"No\", \"No\", \"Yes\", \"No\", \"No\", \"Yes\", \"No\", \"No\", \"No\"]\n",
    "predicted_class = [\"Yes\", \"No\", \"Yes\", \"No\", \"No\", \"No\", \"Yes\", \"Yes\", \"Yes\", \"No\"]\n",
    "\n",
    "def confusion_matrix(actual, predicted):\n",
    "    correct_yes = 0\n",
    "    correct_no = 0\n",
    "    false_negative = 0 # Predict no, actual yes\n",
    "    false_positive = 0 # Predict yes, actual no\n",
    "\n",
    "    for i in range(len(actual)):\n",
    "        if actual[i] == \"Yes\" and predicted[i] == \"Yes\":\n",
    "            correct_yes += 1\n",
    "        elif actual[i] == \"No\" and predicted[i] == \"No\":\n",
    "            correct_no += 1\n",
    "        elif actual[i] == \"Yes\" and predicted[i] == \"No\":\n",
    "            false_negative += 1\n",
    "        elif actual[i] == \"No\" and predicted[i] == \"Yes\":\n",
    "            false_positive += 1\n",
    "\n",
    "    s = \"\\t | Predict=Y | Predict=N \" + '\\n'\n",
    "    s += \"----------------------------------\" + '\\n'\n",
    "    s += \"Actual=Y | \" + \"    \" + str(correct_yes) + \"           \" + str(false_negative) + '\\n'\n",
    "    s += \"Actual=N | \" + \"    \" + str(false_positive) + \"           \" + str(correct_no)\n",
    "\n",
    "    return s\n",
    "\n",
    "print(confusion_matrix(actual_class, predicted_class))"
   ]
  },
  {
   "cell_type": "markdown",
   "metadata": {},
   "source": [
    "b) Assume you have the following Cost Matrix:\n",
    "\n",
    "|            | predicted = Y | predicted = N |\n",
    "|------------|---------------|---------------|\n",
    "| actual = Y |       -1      |       5       |\n",
    "| actual = N |        10     |       0       |\n",
    "\n",
    "What is the cost of the above classification?"
   ]
  },
  {
   "cell_type": "markdown",
   "metadata": {},
   "source": [
    "COST = 33"
   ]
  },
  {
   "cell_type": "markdown",
   "metadata": {},
   "source": [
    "c) Write a function that takes in the actual values, the predictions, and a cost matrix and outputs a cost. Test it on the above example."
   ]
  },
  {
   "cell_type": "code",
   "execution_count": 21,
   "metadata": {},
   "outputs": [
    {
     "name": "stdout",
     "output_type": "stream",
     "text": [
      "33\n"
     ]
    }
   ],
   "source": [
    "correct_yes_cost = -1\n",
    "correct_no_cost = 0\n",
    "false_negative_cost = 5\n",
    "false_positive_cost = 10\n",
    "\n",
    "def predict_cost(actual, predicted, cost_matrix):\n",
    "    correct_yes = 0\n",
    "    correct_no = 0\n",
    "    false_negative = 0 # Predict no, actual yes\n",
    "    false_positive = 0 # Predict yes, actual no\n",
    "\n",
    "    for i in range(len(actual)):\n",
    "        if actual[i] == \"Yes\" and predicted[i] == \"Yes\":\n",
    "            correct_yes += 1\n",
    "        elif actual[i] == \"No\" and predicted[i] == \"No\":\n",
    "            correct_no += 1\n",
    "        elif actual[i] == \"Yes\" and predicted[i] == \"No\":\n",
    "            false_negative += 1\n",
    "        elif actual[i] == \"No\" and predicted[i] == \"Yes\":\n",
    "            false_positive += 1\n",
    "\n",
    "    return (cost_matrix[0] * correct_yes) + (cost_matrix[1] * correct_no) + (cost_matrix[2] * false_negative) + (cost_matrix[3] * false_positive)\n",
    "\n",
    "\n",
    "print(predict_cost(actual_class, predicted_class, [correct_yes_cost, correct_no_cost, false_negative_cost, false_positive_cost]))"
   ]
  },
  {
   "cell_type": "markdown",
   "metadata": {},
   "source": [
    "d) Implement functions for the following:\n",
    "\n",
    "- accuracy\n",
    "- precision\n",
    "- recall\n",
    "- f-measure\n",
    "\n",
    "and apply them to the above example."
   ]
  },
  {
   "cell_type": "code",
   "execution_count": 22,
   "metadata": {},
   "outputs": [
    {
     "name": "stdout",
     "output_type": "stream",
     "text": [
      "Accuracy: 0.6\n",
      "Precision: 0.4\n",
      "Recall: 0.6666666666666666\n",
      "F-Measure: 0.5\n"
     ]
    }
   ],
   "source": [
    "def get_confusion_matrix(actual, predicted):\n",
    "    correct_yes = 0\n",
    "    correct_no = 0\n",
    "    false_negative = 0 # Predict no, actual yes\n",
    "    false_positive = 0 # Predict yes, actual no\n",
    "\n",
    "    for i in range(len(actual)):\n",
    "        if actual[i] == \"Yes\" and predicted[i] == \"Yes\":\n",
    "            correct_yes += 1\n",
    "        elif actual[i] == \"No\" and predicted[i] == \"No\":\n",
    "            correct_no += 1\n",
    "        elif actual[i] == \"Yes\" and predicted[i] == \"No\":\n",
    "            false_negative += 1\n",
    "        elif actual[i] == \"No\" and predicted[i] == \"Yes\":\n",
    "            false_positive += 1\n",
    "\n",
    "    return [correct_yes, correct_no, false_negative, false_positive]\n",
    "\n",
    "def accuracy(con_matrix):\n",
    "    return (con_matrix[0] + con_matrix[1])/sum(con_matrix)\n",
    "\n",
    "def precision(con_matrix):\n",
    "    return con_matrix[0]/(con_matrix[0] + con_matrix[3])\n",
    "\n",
    "def recall(con_matrix):\n",
    "    return con_matrix[0]/(con_matrix[0] + con_matrix[2])\n",
    "\n",
    "def f_measure(con_matrix):\n",
    "    p = precision(con_matrix)\n",
    "    r = recall(con_matrix)\n",
    "    return (2*p*r)/(p+r)\n",
    "\n",
    "con_matrix = get_confusion_matrix(actual_class, predicted_class)\n",
    "print(\"Accuracy:\", accuracy(con_matrix))\n",
    "print(\"Precision:\", precision(con_matrix))\n",
    "print(\"Recall:\", recall(con_matrix))\n",
    "print(\"F-Measure:\", f_measure(con_matrix))\n"
   ]
  }
 ],
 "metadata": {
  "kernelspec": {
   "display_name": "Python 3",
   "language": "python",
   "name": "python3"
  },
  "language_info": {
   "codemirror_mode": {
    "name": "ipython",
    "version": 3
   },
   "file_extension": ".py",
   "mimetype": "text/x-python",
   "name": "python",
   "nbconvert_exporter": "python",
   "pygments_lexer": "ipython3",
   "version": "3.9.17"
  },
  "orig_nbformat": 4,
  "vscode": {
   "interpreter": {
    "hash": "e7370f93d1d0cde622a1f8e1c04877d8463912d04d973331ad4851f04de6915a"
   }
  }
 },
 "nbformat": 4,
 "nbformat_minor": 2
}
